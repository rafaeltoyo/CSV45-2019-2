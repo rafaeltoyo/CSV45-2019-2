{
 "cells": [
  {
   "cell_type": "code",
   "execution_count": 1,
   "metadata": {},
   "outputs": [
    {
     "name": "stderr",
     "output_type": "stream",
     "text": [
      "c:\\python\\python37\\lib\\site-packages\\sklearn\\externals\\six.py:31: DeprecationWarning: The module is deprecated in version 0.21 and will be removed in version 0.23 since we've dropped support for Python 2.7. Please rely on the official version of six (https://pypi.org/project/six/).\n",
      "  \"(https://pypi.org/project/six/).\", DeprecationWarning)\n"
     ]
    },
    {
     "name": "stdout",
     "output_type": "stream",
     "text": [
      "c:\\python\\python37\\python.exe\n",
      "c:\\python\\python37\\python.exe\n"
     ]
    }
   ],
   "source": [
    "import os\n",
    "import numpy as np\n",
    "import matplotlib.pylab as plt\n",
    "from sklearn.externals.six import StringIO\n",
    "\n",
    "import sys\n",
    "#!{sys.executable} -m pip install pydotplus\n",
    "#!conda install --yes --prefix {sys.prefix} graphviz\n",
    "import pydotplus \n",
    "\n",
    "import sklearn.metrics\n",
    "from sklearn import tree\n",
    "from sklearn.tree import DecisionTreeClassifier\n",
    "from sklearn.datasets import load_iris\n",
    "\n",
    "from sklearn.model_selection import train_test_split\n",
    "from sklearn.model_selection import RandomizedSearchCV\n",
    "from sklearn.model_selection import  cross_val_score\n",
    "\n",
    "from IPython.display import Image\n",
    "from scipy.stats import randint\n",
    "\n",
    "print(sys.executable)\n",
    "print(sys.executable)"
   ]
  },
  {
   "cell_type": "code",
   "execution_count": 2,
   "metadata": {},
   "outputs": [
    {
     "name": "stdout",
     "output_type": "stream",
     "text": [
      "As características são:  ['sepal length (cm)', 'sepal width (cm)', 'petal length (cm)', 'petal width (cm)']\n"
     ]
    }
   ],
   "source": [
    "#carrega a base iris do próprio sckit-learn\n",
    "iris = load_iris()\n",
    "\n",
    "# carregando todas as características em X e os rótulos (labels, targets) em y\n",
    "X = iris.data\n",
    "y = iris.target #Sepal Length, Sepal Width, Petal Length and Petal Width.\n",
    "\n",
    "print(\"As características são: \" , iris.feature_names)\n",
    "labels = iris.feature_names"
   ]
  },
  {
   "cell_type": "code",
   "execution_count": 27,
   "metadata": {
    "scrolled": false
   },
   "outputs": [
    {
     "ename": "SyntaxError",
     "evalue": "invalid syntax (<ipython-input-27-fdd687bef932>, line 25)",
     "output_type": "error",
     "traceback": [
      "\u001b[1;36m  File \u001b[1;32m\"<ipython-input-27-fdd687bef932>\"\u001b[1;36m, line \u001b[1;32m25\u001b[0m\n\u001b[1;33m    plt.plot(range(1,8),[0.5 0.5])\u001b[0m\n\u001b[1;37m                               ^\u001b[0m\n\u001b[1;31mSyntaxError\u001b[0m\u001b[1;31m:\u001b[0m invalid syntax\n"
     ]
    }
   ],
   "source": [
    "##########################\n",
    "#Exercício 01\n",
    "##########################\n",
    "\n",
    "#plote o gráfico de dispersão. \n",
    "#Dica: analise o vetor de labels (y) e plote com cores \n",
    "#diferentes as características comprimento e largura da pétala \n",
    "#(armazenadas em X) de cada rótulo.\n",
    "\n",
    "\"\"\"\n",
    "for f1 in range(0, len(labels)-1):\n",
    "    for f2 in range(f1+1, len(labels)):\n",
    "        plt.figure()\n",
    "        plt.scatter(X[:,f1], X[:,f2], c=y, cmap=plt.cm.Set1)\n",
    "        plt.xlabel(labels[f1])\n",
    "        plt.ylabel(labels[f2])\n",
    "        plt.show()\n",
    "\"\"\"\n",
    "\n",
    "#analise visualmente como seriam as fronteiras de decisão, \n",
    "#considerando apenas cortes ortogonais.\n",
    "\n",
    "plt.figure()\n",
    "plt.scatter(X[:,2], X[:,3], c=y, cmap=plt.cm.Set1)\n",
    "plt.plot(range(1,8),[0.5 0.5])\n",
    "plt.xlabel(labels[2])\n",
    "plt.ylabel(labels[3])\n",
    "plt.show()"
   ]
  },
  {
   "cell_type": "code",
   "execution_count": 23,
   "metadata": {},
   "outputs": [
    {
     "name": "stdout",
     "output_type": "stream",
     "text": [
      "Dimensões das bases de treinamento e teste:\n",
      "(120, 4)\n",
      "(30, 4)\n",
      "(120,)\n",
      "(30,)\n"
     ]
    }
   ],
   "source": [
    "#separando em conjunto de treinamento e teste\n",
    "X_train, X_test, y_train, y_test = train_test_split(iris.data, iris.target, test_size = 0.2)\n",
    "\n",
    "# imprime as dimensões das bases\n",
    "print(\"Dimensões das bases de treinamento e teste:\")\n",
    "print(X_train.shape)\n",
    "print(X_test.shape)\n",
    "print(y_train.shape)\n",
    "print(y_test.shape)"
   ]
  },
  {
   "cell_type": "code",
   "execution_count": 24,
   "metadata": {},
   "outputs": [
    {
     "name": "stdout",
     "output_type": "stream",
     "text": [
      "\n",
      "Accuracy\n",
      " 0.8666666666666667\n"
     ]
    },
    {
     "data": {
      "image/png": "[encoded data removed]",
      "text/plain": [
       "<Figure size 432x288 with 1 Axes>"
      ]
     },
     "metadata": {
      "needs_background": "light"
     },
     "output_type": "display_data"
    }
   ],
   "source": [
    "#classificação utilizando uma árvore de decisão não otimizada\n",
    "\n",
    "#cria o classificador\n",
    "clf = tree.DecisionTreeClassifier(criterion='gini') #testar com (criterion='entropy')\n",
    "\n",
    "#treina o classificador com a base de treinamento\n",
    "clf = clf.fit(X_train, y_train)\n",
    "\n",
    "#testa o classificador com a base de testes\n",
    "preditor = clf.predict(X_test)\n",
    "\n",
    "##########################\n",
    "#Exercício 02 - A\n",
    "#mostrar a acurácia\n",
    "##########################\n",
    "acc = sklearn.metrics.accuracy_score(y_test, preditor)\n",
    "print(\"\\nAccuracy\\n\", acc)\n",
    "\n",
    "##########################\n",
    "#Exercício 02 - B\n",
    "##Analise a árvore de decisão criada\n",
    "##########################\n",
    "#cria uma imagem para mostrar a árvore de decisão criada\n",
    "#out = StringIO()\n",
    "#tree.export_graphviz(clf, out_file=out, feature_names=iris.feature_names, class_names=iris.target_names, filled=True, rounded=True, special_characters=True)\n",
    "#graph=pydotplus.graph_from_dot_data(out.getvalue())\n",
    "#Image(graph.create_png())\n",
    "#with open('irisDT.png', 'wb') as f:\n",
    "#    f.write(graph.create_png())\n",
    "#Image(\"irisDT.png\") \n",
    "_ = tree.plot_tree(clf, feature_names=iris.feature_names, class_names=iris.target_names)\n"
   ]
  },
  {
   "cell_type": "code",
   "execution_count": null,
   "metadata": {},
   "outputs": [],
   "source": [
    "##########################\n",
    "#Exercício 02 - C\n",
    "##Crie um classificador (ie, uma árvore de decisão) com os parâmetros \n",
    "##definidos manualmente por você\n",
    "\n",
    "#procure informações na documentação.\n",
    "#https://scikit-learn.org/stable/modules/generated/sklearn.tree.DecisionTreeClassifier.html#sklearn.tree.DecisionTreeClassifier\n",
    "##########################"
   ]
  },
  {
   "cell_type": "code",
   "execution_count": null,
   "metadata": {},
   "outputs": [],
   "source": [
    "#classificação utilizando uma árvore de decisão otimizada, onde os parâmetros são definidos pela função RandomizedSearchCV\n",
    "\n",
    "clf_rs = DecisionTreeClassifier()\n",
    "\n",
    "##########################\n",
    "#Exercício 03 - A\n",
    "#Analisar os parâmetros utilizados pela RandomizedSearchCV()\n",
    "##########################\n",
    "param_dist = {\"criterion\": [\"gini\", \"entropy\"],\n",
    "                  \"min_samples_split\": randint(5, 20),\n",
    "                  \"max_depth\": randint(1, 20),\n",
    "                  \"min_samples_leaf\": randint(1, 20),\n",
    "                  \"max_leaf_nodes\": randint(2, 20)}\n",
    "   \n",
    "# roda a randomized search     \n",
    "clf_rs = RandomizedSearchCV(clf_rs, \n",
    "                            param_distributions=param_dist,\n",
    "                            n_iter=5)\n",
    "\n",
    "##########################\n",
    "#Exercício 03 - B\n",
    "#Treinar e testar o classificador. Depois, mostrar as métricas de avaliação \n",
    "#(mesmos passos realizados para a árvore não otimizada)\n",
    "##########################\n",
    "\n",
    "#treina o classificador com a base de treinamento\n",
    "clf_rs.fit(X_train, y_train)\n",
    "\n",
    "#testa o classificador com a base de testes\n",
    "preditor = clf_rs.predict(X_test)\n",
    "        \n",
    "#mostrar a acurácia\n",
    "acc = sklearn.metrics.accuracy_score(y_test, preditor)\n",
    "print(\"\\nAccuracy\\n\", acc)\n",
    "\n",
    "##########################\n",
    "#Exercício 03 - C\n",
    "#Analisar os parâmetros (e índices) testados na RandomizedSearchCV()\n",
    "##########################\n",
    "print(\"\\nParâmetros e índices do melhor estimador encontrado:\")\n",
    "print(clf_rs.best_params_)\n",
    "print(clf_rs.best_estimator_)\n",
    "\n",
    "print(\"\\nÍndices para todos os testes realizados pela RandomizedSearchCV():\")\n",
    "means = clf_rs.cv_results_['mean_test_score']\n",
    "stds = clf_rs.cv_results_['std_test_score']\n",
    "for mean, std, params in zip(means, stds, clf_rs.cv_results_['params']):\n",
    "    print(\"%0.3f (+/-%0.03f) for %r\"\n",
    "              % (mean, std * 2, params))\n",
    "\n",
    "##########################\n",
    "#Exercício 03 - D\n",
    "##Compare a árvore de decisão com a anterior (não-otimizada)\n",
    "##########################\n",
    "out = StringIO()\n",
    "tree.export_graphviz(clf_rs.best_estimator_, out_file=out, feature_names=iris.feature_names, class_names=iris.target_names, filled=True, rounded=True, special_characters=True)\n",
    "graph=pydotplus.graph_from_dot_data(out.getvalue())\n",
    "Image(graph.create_png())\n",
    "with open('irisDT-RS.png', 'wb') as f:\n",
    "    f.write(graph.create_png())    \n",
    "Image(\"irisDT-RS.png\") "
   ]
  },
  {
   "cell_type": "code",
   "execution_count": null,
   "metadata": {},
   "outputs": [],
   "source": []
  },
  {
   "cell_type": "code",
   "execution_count": null,
   "metadata": {},
   "outputs": [],
   "source": []
  }
 ],
 "metadata": {
  "anaconda-cloud": {},
  "kernelspec": {
   "display_name": "Python 3",
   "language": "python",
   "name": "python3"
  },
  "language_info": {
   "codemirror_mode": {
    "name": "ipython",
    "version": 3
   },
   "file_extension": ".py",
   "mimetype": "text/x-python",
   "name": "python",
   "nbconvert_exporter": "python",
   "pygments_lexer": "ipython3",
   "version": "3.7.2"
  }
 },
 "nbformat": 4,
 "nbformat_minor": 2
}
